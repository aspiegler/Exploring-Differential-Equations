{
 "cells": [
  {
   "cell_type": "raw",
   "id": "c198b248-1caf-4833-a767-945aa0d56f2a",
   "metadata": {},
   "source": [
    "---\n",
    "title: '1.1: Interpreting Differential Equations'\n",
    "#author: 'Adam Spiegler, University of Colorado Denver'\n",
    "#execute:\n",
    "#  eval: false\n",
    "output:\n",
    "  html_document:\n",
    "#    toc: yes\n",
    "#    toc_depth: 1\n",
    "#    theme: cerulean\n",
    "---\n"
   ]
  },
  {
   "cell_type": "markdown",
   "id": "e2a5319e-8085-45fe-98f3-e1f451d4f31d",
   "metadata": {},
   "source": [
    "[![Open In Colab](https://colab.research.google.com/assets/colab-badge.svg)](https://githubtocolab.com/CU-Denver-MathStats-OER/ODEs/blob/main/Chp1/01-What-is-a-Differential-Equation.ipynb)<nbsp>\n"
   ]
  },
  {
   "cell_type": "markdown",
   "id": "959eafbd",
   "metadata": {},
   "source": [
    "<font color=\"dodgerblue\">Reading: *Notes on Diffy Q's* Sections 0.2, 0.3, and 1.1</font>"
   ]
  },
  {
   "cell_type": "markdown",
   "id": "307ea08a",
   "metadata": {
    "id": "307ea08a",
    "tags": []
   },
   "source": [
    "\n",
    "# Modeling Rates of Change\n",
    "\n",
    "---\n",
    "\n",
    "Often scientists use rate of change equations in their study of population growth for one or more species. In this question we study systems of rate of change equations designed to inform us about the future populations for two species that are either competitive (that is, both species are *harmed by* interaction) or cooperative (that is, both species *benefit from* interaction)."
   ]
  },
  {
   "cell_type": "markdown",
   "id": "d3dd7af8-5f5f-46fd-9741-1526c574ad23",
   "metadata": {
    "id": "d3dd7af8-5f5f-46fd-9741-1526c574ad23",
    "tags": [],
    "toc-hr-collapsed": true
   },
   "source": [
    "\n",
    "## Question 1: {#sec-01quest1}\n",
    "\n",
    "---\n",
    "\n",
    "Which system of rate of change equations below describes a situation where the two species compete and which system describes cooperative species? Explain your reasoning.\n",
    "\n",
    "$$\n",
    "\\mbox{(i) }  \\begin{aligned}[t]\n",
    "        \\frac{dx}{dt} &= -5x +2xy\\\\\n",
    "        \\frac{dy}{dt} &= -4y +3xy\n",
    "        \\end{aligned} \n",
    "\\qquad\n",
    "\\mbox{(ii) } \\begin{aligned}[t]\n",
    "        \\frac{dx}{dt} &= 4x -2xy\\\\\n",
    "        \\frac{dy}{dt} &= 2y - xy\n",
    "        \\end{aligned}\n",
    "$$\n",
    "\n",
    "### Solution to Question 1:\n",
    "\n",
    "---\n",
    "\n",
    "<br>  \n",
    "<br>  \n",
    "<br>  "
   ]
  },
  {
   "cell_type": "markdown",
   "id": "6551bd09-624c-4cd4-8ab3-95283f3ad082",
   "metadata": {
    "id": "6551bd09-624c-4cd4-8ab3-95283f3ad082",
    "tags": []
   },
   "source": [
    "\n",
    "# Graphing Solutions: A Simple Population Model\n",
    "\n",
    "---\n",
    "\n",
    "The previous question dealt with a complex situation with two interacting species. To develop the ideas and tools that we will need to further analyze complex situations like these, we will simplify the situation by making the following assumptions:\n",
    "\n",
    "- There is only one species (*e.g.*, fish).\n",
    "- The species has been in its habitat (*e.g.*, a lake) for some time prior to what we call $t = 0$.\n",
    "- The species has access to unlimited resources (*e.g.*, food, space, water). \n",
    "- The species reproduces continuously."
   ]
  },
  {
   "cell_type": "markdown",
   "id": "429a08a9-efec-4732-8d33-1fd18a6ae5fa",
   "metadata": {
    "id": "73752f73-ef45-4190-a211-2871bfb49256",
    "tags": [],
    "toc-hr-collapsed": true
   },
   "source": [
    "\n",
    "## Question 2: {#sec-01quest2}\n",
    "\n",
    "---\n",
    "\n",
    "Given these assumptions for a certain lake containing fish, sketch three possible population versus time graphs: one starting at $P = 10$, one starting at $P = 20$, and the third starting at $P = 30$.\n",
    "\n",
    "<img src=\"https://raw.githubusercontent.com/CU-Denver-MathStats-OER/ODEs/main/Chp1/Images/01FishGraph.png\"  width=\"480\" alt = \"Blank Fish Graph\">"
   ]
  },
  {
   "cell_type": "markdown",
   "id": "8be122c7-c44c-47f9-ae5a-cfc8ad955ca0",
   "metadata": {
    "id": "73752f73-ef45-4190-a211-2871bfb49256",
    "tags": [],
    "toc-hr-collapsed": true
   },
   "source": [
    "\n",
    "### Question 2a: {#sec-01quest2a}\n",
    "\n",
    "---\n",
    "\n",
    "For your graph starting with $P = 10$, how does the slope vary as time increases? Explain. \n",
    "\n",
    "#### Solution to Question 2a:\n",
    "\n",
    "---\n",
    "\n",
    "<br>  \n",
    "<br>  \n",
    "<br>  \n"
   ]
  },
  {
   "cell_type": "markdown",
   "id": "68bebdd3-d64e-4f4e-90d3-f2b966427ef9",
   "metadata": {
    "id": "73752f73-ef45-4190-a211-2871bfb49256",
    "tags": [],
    "toc-hr-collapsed": true
   },
   "source": [
    "\n",
    "### Question 2b: {#sec-01quest2b}\n",
    "\n",
    "---\n",
    "\n",
    "For a set $P$ value, say $P = 30$, how do the slopes vary across the three graphs you drew?\n",
    "\n",
    "#### Solution to Question 2b:\n",
    "\n",
    "---\n",
    "\n",
    "<br>  \n",
    "<br>  \n",
    "<br>  \n"
   ]
  },
  {
   "cell_type": "markdown",
   "id": "4de13f78-d312-41d4-9a62-214e1129c2a9",
   "metadata": {
    "id": "4de13f78-d312-41d4-9a62-214e1129c2a9",
    "tags": [],
    "toc-hr-collapsed": true
   },
   "source": [
    "\n",
    "## Question 3: {#sec-01quest3}\n",
    "\n",
    "---\n",
    "\n",
    "This situation can also be modeled with a rate of change equation, \n",
    "$$\\frac{dP}{dt}=\\mbox{something}$$.  \n",
    "\n",
    "- What should the \"something\" be? \n",
    "- Should the rate of change be stated in terms of just $P$, just $t$, or both $P$ and $t$?\n",
    "- Make a conjecture about the right hand side of the rate of change equation and provide reasons for your conjecture.\n",
    "\n",
    "### Solution to Question 3:\n",
    "\n",
    "---\n",
    "\n",
    "<br>  \n",
    "<br>  \n",
    "<br>  "
   ]
  },
  {
   "cell_type": "markdown",
   "id": "5625b432-203d-4e7b-a970-3e2237431a3a",
   "metadata": {
    "id": "5625b432-203d-4e7b-a970-3e2237431a3a",
    "tags": []
   },
   "source": [
    "\n",
    "# What Exactly is a Differential Equation and What are Solutions?\n",
    "\n",
    "---\n",
    "\n",
    "A **<font color = \"dodgerblue\">differential equation</font>** is an equation that relates an unknown function to its derivative(s). Suppose $y = y(t)$ is some unknown function, then a differential equation, would express the rate of change, $\\frac{dy}{dt}$, in terms of $y$ and/or $t$. For example, all of the following are *first order* differential equations.  \n",
    "\n",
    "$$ \\frac{dP}{dt}=kP, \\qquad \\frac{dy}{dt}=y+2t, \\qquad \\frac{dy}{dt}=t^2+5, \\qquad \\frac{dy}{dt}=\\frac{6y-2}{ty}, \\qquad \\frac{dy}{dt}=\\frac{y^2-1}{t^2+2t}$$\n",
    "\n",
    "Given a differential equation for some unknown function, **<font color = \"dodgerblue\">solutions</font>** *are functions* that satisfy the rate change equation. \n",
    "\n",
    "One way to read the differential equation $\\frac{dy}{dt} = y+2t$ aloud you would say, \"dee $y$ dee $t$ equals $y$ plus two times $t$.\" However, this does **not** relate to the *meaning* of the solution. "
   ]
  },
  {
   "cell_type": "markdown",
   "id": "2cdc2663-9172-4268-aa89-c05af6eaa4c5",
   "metadata": {
    "id": "2cdc2663-9172-4268-aa89-c05af6eaa4c5",
    "tags": []
   },
   "source": [
    "\n",
    "## Question 4: {#sec-01quest4}\n",
    "\n",
    "---\n",
    "\n",
    "Is the function $y=1+t$  a solution to the differential equation $\\displaystyle\\frac{dy}{dt}=\\frac{y^2-1}{t^2+2t}$? How about the function $y=1+2t$?  How about $y = 1$?  Explain your reasoning.\n",
    "\n",
    "### Solution to Question 4:\n",
    "\n",
    "---\n",
    "\n",
    "<br>  \n",
    "<br>  \n",
    "<br>  "
   ]
  },
  {
   "cell_type": "markdown",
   "id": "ff8bde6b-2635-4d6e-9df5-936274c9c134",
   "metadata": {
    "id": "ff8bde6b-2635-4d6e-9df5-936274c9c134",
    "tags": []
   },
   "source": [
    "\n",
    "## Question 5: {#sec-01quest5}\n",
    "\n",
    "---\n",
    "\n",
    "Is the function $y=t^3+2t$ a solution to the differential equation $\\displaystyle \\frac{dy}{dt}=3y^2+2$?  Why or why not?\n",
    "\n",
    "### Solution to Question 5:\n",
    "\n",
    "---\n",
    "\n",
    "<br>  \n",
    "<br>  \n",
    "<br>  \n"
   ]
  },
  {
   "cell_type": "markdown",
   "id": "3e80de79-2708-4825-8ed6-cf626303689e",
   "metadata": {
    "id": "3e80de79-2708-4825-8ed6-cf626303689e",
    "tags": []
   },
   "source": [
    "\n",
    "## Question 6: {#sec-01quest6}\n",
    "\n",
    "---\n",
    "\n",
    "Determine all of the functions that satisfy the rate of change equation $\\displaystyle \\frac{dP}{dt}=0.3P$. \n",
    "\n",
    "### Solution to Question 6:\n",
    "\n",
    "---\n",
    "\n",
    "<br>  \n",
    "<br>  \n",
    "<br>  "
   ]
  },
  {
   "cell_type": "markdown",
   "id": "6996b933-a8ef-487c-8452-b65c413cc892",
   "metadata": {
    "id": "6996b933-a8ef-487c-8452-b65c413cc892",
    "jp-MarkdownHeadingCollapsed": true,
    "tags": []
   },
   "source": [
    "\n",
    "## Question 7: {#sec-01quest7}\n",
    "\n",
    "---\n",
    "\n",
    "Determine all of the solutions to the differential equation $\\displaystyle\\frac{dy}{dt}=t^2+5$.\n",
    "\n",
    "### Solution to Question 7:\n",
    "\n",
    "---\n",
    "\n",
    "<br>  \n",
    "<br>  \n",
    "<br>  "
   ]
  },
  {
   "cell_type": "markdown",
   "id": "082f410c-2a3c-48fc-9057-bff1b6934fb4",
   "metadata": {
    "id": "56edb635-625e-48d4-adfd-320274e893ec",
    "tags": []
   },
   "source": [
    "\n",
    "# Introduction to Python\n",
    "\n",
    "---\n",
    "\n",
    "We will be using [Python](https://www.python.org/) as a tool for experimenting with differential equations. Python is a widely used programming language suited for many purposes and applications such as computational mathematics, data science, and app development. We will create, modify, and run Python code in Jupyter notebooks. No prior programming experience is required to begin working in Python in this (or any future) notebook.\n",
    "\n",
    "- Python is free and open-source programming language.\n",
    "- Python has an extensive library of packages with scripts that perform many useful tasks.\n",
    "- Python is rated as the [#2 most in-demand](https://bootcamp.berkeley.edu/blog/most-in-demand-programming-languages/) and useful programming languages. "
   ]
  },
  {
   "cell_type": "markdown",
   "id": "7466a5d4-3197-4393-b110-32770cac9199",
   "metadata": {
    "id": "56edb635-625e-48d4-adfd-320274e893ec"
   },
   "source": [
    "\n",
    "## The SymPy Package \n",
    "\n",
    "---\n",
    "\n",
    "Python <font color=\"dodgerblue\">**packages**</font> are a collection of modules, functions, data, and/or other code scripts written and openly shared by other users. There are packages to perform many common tasks in mathematics such as plotting graphs, using the number $\\pi$, taking derivatives, and solving equations. This semester, we will frequently use the [SymPy](https://www.sympy.org/en/index.html) package in Python to symbolically differentiate, integrate, and manipulate functions. \n",
    "\n",
    "Before we can access any files in a package, we must first import the package. **Run the code cell below to import the SymPy package with the abbreviation `sym`.** \n",
    "\n",
    "- We only need to import a package one time during an active Python session.\n",
    "- We can use the abbreviation `sym` instead of the full `sympy` to call in functions and modules from the SymPy package."
   ]
  },
  {
   "cell_type": "code",
   "execution_count": null,
   "id": "4d4a07f4-3653-4b80-8cae-4ffa0c11a4bd",
   "metadata": {
    "id": "e5459ade-dad8-4e5c-a876-704ca9997516"
   },
   "outputs": [],
   "source": [
    "import sympy as sym  # First we need to import sympy, we use the abbreviation sym"
   ]
  },
  {
   "cell_type": "markdown",
   "id": "921959c5-a035-47b2-9889-e21aa0bd87c8",
   "metadata": {
    "id": "yLL9-c0-jOoc"
   },
   "source": [
    "\n",
    "### Symbolic Variables and Functions\n",
    "\n",
    "---\n",
    "\n",
    "Python (like most programming languages) is a very literal language. If we would like to define and store the function $P = Ae^{kt}$ in Python, we need to be sure Python is reading all the letters and mathematical operations as we intend.\n",
    "\n",
    "- We might intend some letters such as $t$ and $P$ to denote variables.\n",
    "- Some letters such as $A$ and $k$ might denote constant parameters.\n",
    "- The letter $e$ denotes the natural exponential number.\n",
    "\n",
    "\n",
    "The command `x, y, z = sympy.sybols('x y z')` defines $x$, $y$, and $z$ as variables. We use our abbreviation `sym.symbols()` for this command. **Run the code cell below to create a new symbol `t`.**\n",
    "\n",
    "\n"
   ]
  },
  {
   "cell_type": "code",
   "execution_count": null,
   "id": "b0bef032-c86d-4385-b21b-510fa422432b",
   "metadata": {
    "id": "b8d4db03-1d17-4f0a-b9d6-c845e79f0fcb"
   },
   "outputs": [],
   "source": [
    "t = sym.symbols('t')  # Creating t as symbols"
   ]
  },
  {
   "cell_type": "markdown",
   "id": "3a3e66af-248b-4d26-b3ce-4a87c21354a4",
   "metadata": {
    "id": "91f39187-bcc6-464e-b622-b85371f4dec5"
   },
   "source": [
    "\n",
    "#### SymPy Functions\n",
    "\n",
    "---\n",
    "\n",
    "Next we use functions available within SymPy to create the symbolic function $P=7e^{0.3t}$.\n",
    "\n",
    "- We have already defined the symbol `t`.\n",
    "- We use the function `sympy.exp()` that we abbreviate with `sym.exp()`.\n",
    "- We must explicitly tell Python how to combine different objects.\n",
    "    - By default, the expression `xy` is read as a single object named `xy`.\n",
    "    - If you want to multiply `x` and `y`, then specify the operation with `x * y`.\n",
    "    - Adding extra spaces helps make the expression easier to read.\n",
    "\n",
    "**Run the code cell below to define the exponential function $P$.**"
   ]
  },
  {
   "cell_type": "code",
   "execution_count": null,
   "id": "9954828d-3ed7-40bb-a76f-daef5e4a5308",
   "metadata": {
    "id": "7fc85663-58d0-47eb-91c7-f9e0a4ff29d6"
   },
   "outputs": [],
   "source": [
    "P = 7 * sym.exp(0.3 * t)"
   ]
  },
  {
   "cell_type": "markdown",
   "id": "766f69cb-5d1a-4af1-871c-ee6930526c50",
   "metadata": {},
   "source": [
    "\n",
    "#### Printing Output\n",
    "\n",
    "---\n",
    "\n",
    "After running the code cell above, there is no output visible on the screen. The code cell above created the function and stored the function to `P`. In order to see the output, you need to command Python to print the output to the screen using either `print(P)` or more simply `P`.\n",
    "\n",
    "**Run the code cell below to print the function `P` to the screen.**"
   ]
  },
  {
   "cell_type": "code",
   "execution_count": null,
   "id": "09141c5a-747d-4ab8-9c49-fe08c118d9b0",
   "metadata": {
    "id": "d55b475e-d7f9-41a7-b17f-033375ffa3c4"
   },
   "outputs": [],
   "source": [
    "P  # The output for a symbolic function in SymPy is \"pretty\""
   ]
  },
  {
   "cell_type": "markdown",
   "id": "4c6e27a6-7ac8-45f7-8e1c-c13dfcf0ece7",
   "metadata": {
    "id": "d4d8ce00-e158-49c9-a4e8-f7122bc330fd",
    "tags": []
   },
   "source": [
    "\n",
    "## Computing Derivatives with SymPy\n",
    "\n",
    "---\n",
    "\n",
    "We now use SymPy to find formulas for derivatives of $P$ with respect to $t$.\n",
    "\n",
    "- The differentiation function is `sympy.diff(f, t, n)` finds a formula for the $n^{\\mbox{th}}$ derivative of `f` with respect to variable `t`.\n",
    "- If we have already defined function `f`, then `f.diff(t, n)` can be used in place of `sympy.diff(f, t, n)`.\n"
   ]
  },
  {
   "cell_type": "code",
   "execution_count": null,
   "id": "16a8b6d8-dd75-4c89-ab1d-826d8ad355ec",
   "metadata": {
    "id": "dc6cabac-038b-4433-bf59-dbe19ee58d9b",
    "tags": []
   },
   "outputs": [],
   "source": [
    "sym.diff(P, t, 1) # Differentiate P with respect to t"
   ]
  },
  {
   "cell_type": "code",
   "execution_count": null,
   "id": "95652c4f-6812-4348-b111-a77bf405554d",
   "metadata": {
    "id": "e47beb56-93e3-430f-ba5e-9b1d0e95ce1a"
   },
   "outputs": [],
   "source": [
    "P.diff(t, 1)  # Differentiate P with respect to t"
   ]
  },
  {
   "cell_type": "code",
   "execution_count": null,
   "id": "21fc15bb-c9f6-42d5-b7ac-058fab1708ff",
   "metadata": {
    "id": "7bda14e6-fe53-4558-ac32-39164b3c37f2"
   },
   "outputs": [],
   "source": [
    "P.diff(t, 5)  # This computes a 5th order derivative."
   ]
  },
  {
   "cell_type": "markdown",
   "id": "0ce22fa1-d94d-4267-9670-41e9913451d9",
   "metadata": {
    "id": "b6169063-9c42-41e4-b5b5-554bdb5929e3"
   },
   "source": [
    "\n",
    "## Question 8: {#sec-01quest8}\n",
    "\n",
    "---\n",
    "\n",
    "Consider the function $y = 3\\sin{(2x)} - 5 \\cos{(2x)}$.\n",
    "\n",
    "Use SymPy to create symbolic function and find an expression for $y''$. Several blank code cells are below to get you started.\n",
    "\n",
    "\n",
    "::: {.callout-tip}\n",
    "You will first need to create a new symbolic variable `x`. \n",
    ":::\n",
    "\n",
    "### Solution to Question 8:\n",
    "\n",
    "---\n",
    "\n",
    "<br>  \n",
    "<br> "
   ]
  },
  {
   "cell_type": "code",
   "execution_count": null,
   "id": "4930ebed-328c-4ff0-a698-90f2d668611b",
   "metadata": {
    "id": "4c4c9069-1d5d-45cf-b8c5-5985d00688a6"
   },
   "outputs": [],
   "source": []
  },
  {
   "cell_type": "code",
   "execution_count": null,
   "id": "e9bb8dd7-ad6b-4b33-b788-5b91119c62ed",
   "metadata": {
    "id": "b305ce41-79d3-4f5f-a80f-2953b2e77eaa"
   },
   "outputs": [],
   "source": []
  },
  {
   "cell_type": "markdown",
   "id": "c2866a09-a4d3-4b71-af5d-9b50ede2ad67",
   "metadata": {
    "id": "f23ad360-6263-4fae-87e7-d584ea36b989",
    "tags": []
   },
   "source": [
    "\n",
    "## Integration with SymPy\n",
    "\n",
    "---\n",
    "\n",
    "SymPy has an [`integrals` module](https://docs.sympy.org/latest/modules/integrals/integrals.html) with lots of built-in functions for computing indefinite and definite integrals as well as common integral transforms (such as Laplace and Fourier transforms). \n",
    "\n",
    "- The function `sympy.integrate([expr], t)` finds an antiderivative (with constant of integration $C=0$) of the expression with respect to `t`.\n",
    "- If we have already stored the expression to the function `f`, we can also use the command `f.integrate(t)`.\n",
    "- To evaluate a definite integral $\\int_a^b f(t) \\, dt$, use `sympy.integrate(f, (t, a, b))`\n",
    "\n",
    "We show some examples below. Feel free to experiment!\n",
    "\n",
    "\n",
    "::: {.callout-caution}\n",
    "The output of `sympy.integrate([expr], t)` is not the infinite family of all possible antiderivatives. The output is the antiderivative with constant of integration $C=0$.\n",
    ":::\n"
   ]
  },
  {
   "cell_type": "code",
   "execution_count": null,
   "id": "b493e816-8c40-4bc2-9796-2c7186616522",
   "metadata": {
    "id": "3fcee679-877d-4777-840e-447cdea67b4a"
   },
   "outputs": [],
   "source": [
    "t, k = sym.symbols('t, k')  # Creating t and k as symbols"
   ]
  },
  {
   "cell_type": "code",
   "execution_count": null,
   "id": "fe2f1640-9eb3-4b2d-ae5a-0105f880a21d",
   "metadata": {
    "id": "4dea6c43-c948-42b9-9835-26ed364f639b"
   },
   "outputs": [],
   "source": [
    "# Note that indefinite integrals do not include the constant of integration \n",
    "\n",
    "sym.integrate(t**2 + k, t)  # Determines an antiderivative of the function $t^2+k$ with respect to t"
   ]
  },
  {
   "cell_type": "code",
   "execution_count": null,
   "id": "c3fa76f2-67ce-4acd-815f-f08156887ade",
   "metadata": {
    "id": "3b36409b-a0e0-4d68-8fe7-de753fdf894e"
   },
   "outputs": [],
   "source": [
    "sym.integrate(t**2 + k, k)  # Integrates with respect to k"
   ]
  },
  {
   "cell_type": "code",
   "execution_count": null,
   "id": "bf565788-1e9d-42b0-8069-5e843ac64d66",
   "metadata": {
    "id": "79a29b28-5fee-4473-9d69-20b78086e42a"
   },
   "outputs": [],
   "source": [
    "sym.integrate(t**2 + k, (t, 0, 1))  # A definite integral, with respect to t, from 0 to 1"
   ]
  },
  {
   "cell_type": "code",
   "execution_count": null,
   "id": "79a29b28-5fee-4473-9d69-20b78086e42a",
   "metadata": {
    "id": "79a29b28-5fee-4473-9d69-20b78086e42a"
   },
   "outputs": [],
   "source": [
    "sym.integrate(t**2 + k, (t, 0, 1))  # A definite integral, with respect to t, from 0 to 1"
   ]
  },
  {
   "cell_type": "markdown",
   "id": "eb36e48a-5e0b-443f-b7b6-5e4dae0fcbd9",
   "metadata": {
    "id": "eb36e48a-5e0b-443f-b7b6-5e4dae0fcbd9"
   },
   "source": [
    "\n",
    "## Question 9: {#sec-01quest9}\n",
    "\n",
    "---\n",
    "\n",
    "Consider the differential equation\n",
    "$$ \\frac{dQ}{dp} = 2\\cos{(3p)}-p^3. $$\n",
    "\n",
    "Use `SymPy` find all solutions to the differential equation.  Several blank code cells are below to get you started, but students should feel free to make more as needed as well as adding Markdown cells for notes.\n",
    "\n",
    "::: {.callout-tip}\n",
    "You will first need to create a new symbolic variable `p`. \n",
    ":::\n",
    "\n",
    "### Solution to Question 9:\n",
    "\n",
    "---\n",
    "\n",
    "<br>  \n",
    "<br>  "
   ]
  },
  {
   "cell_type": "code",
   "execution_count": null,
   "id": "a2e30707-7178-4395-88a3-a26eeb1eb9ef",
   "metadata": {
    "id": "a2e30707-7178-4395-88a3-a26eeb1eb9ef"
   },
   "outputs": [],
   "source": []
  },
  {
   "cell_type": "code",
   "execution_count": null,
   "id": "f10d84ab-fa4b-44e4-a875-2f383d49eaea",
   "metadata": {
    "id": "f10d84ab-fa4b-44e4-a875-2f383d49eaea"
   },
   "outputs": [],
   "source": []
  },
  {
   "cell_type": "markdown",
   "id": "3606cbc0-cbe2-49bb-b8d1-29410f1e7946",
   "metadata": {
    "id": "3606cbc0-cbe2-49bb-b8d1-29410f1e7946"
   },
   "source": [
    "\n",
    "# Creative Commons License Information\n",
    "\n",
    "---\n",
    "\n",
    "<a rel=\"license\" href=\"https://creativecommons.org/licenses/by-nc-sa/4.0/\"><img alt=\"Creative Commons License\" style=\"border-width:0\" src=\"https://i.creativecommons.org/l/by-nc-sa/4.0/80x15.png\"></a>\n",
    "<br> \n",
    "<span xmlns:dct=\"http://purl.org/dc/terms/\" property=\"dct:title\">*Exploring Differential Equations*</span> by <a xmlns:cc=\"http://creativecommons.org/ns#\" href=\"https://github.com/CU-Denver-MathStats-OER/ODEs\" property=\"cc:attributionName\" rel=\"cc:attributionURL\">Adam Spiegler</a> is licensed under a <a rel=\"license\" href=\"http://creativecommons.org/licenses/by-nc-sa/4.0/\">Creative Commons Attribution-NonCommercial-ShareAlike 4.0 International License</a>.\n",
    "<br>\n",
    "Based on a work at <a xmlns:dct=\"http://purl.org/dc/terms/\" href=\"https://github.com/CU-Denver-MathStats-OER/ODEs\" rel=\"dct:source\">https://github.com/CU-Denver-MathStats-OER/ODEs</a> and original content created by Rasmussen, C., Keene, K. A., Dunmyre, J., & Fortune, N. (2018). *Inquiry oriented differential equations: Course materials*. Available at <a href=\"https://iode.sdsu.edu\">https://iode.sdsu.edu</a>."
   ]
  },
  {
   "cell_type": "code",
   "execution_count": null,
   "id": "7e987422-1779-4eda-b7b8-64e755a104d0",
   "metadata": {
    "id": "7e987422-1779-4eda-b7b8-64e755a104d0"
   },
   "outputs": [],
   "source": []
  }
 ],
 "metadata": {
  "colab": {
   "collapsed_sections": [],
   "name": "01-What-is-a-Differential-Equation.ipynb",
   "provenance": []
  },
  "kernelspec": {
   "display_name": "Python 3 (ipykernel)",
   "language": "python",
   "name": "python3"
  },
  "language_info": {
   "codemirror_mode": {
    "name": "ipython",
    "version": 3
   },
   "file_extension": ".py",
   "mimetype": "text/x-python",
   "name": "python",
   "nbconvert_exporter": "python",
   "pygments_lexer": "ipython3",
   "version": "3.8.17"
  },
  "toc-autonumbering": false,
  "toc-showmarkdowntxt": false,
  "toc-showtags": false
 },
 "nbformat": 4,
 "nbformat_minor": 5
}
