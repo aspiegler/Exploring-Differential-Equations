{
 "cells": [
  {
   "cell_type": "raw",
   "id": "f763ae71-7169-4dfe-bc64-ae527f1586f0",
   "metadata": {},
   "source": [
    "---\n",
    "title: '1.2: Slope Fields'\n",
    "#author: 'Adam Spiegler, University of Colorado Denver'\n",
    "#execute:\n",
    "#  eval: false\n",
    "output:\n",
    "  html_document:\n",
    "#    toc: yes\n",
    "#    toc_depth: 1\n",
    "#    theme: cerulean\n",
    "---\n"
   ]
  },
  {
   "cell_type": "markdown",
   "id": "af328aa4-6c16-448d-88ac-a951cfe05837",
   "metadata": {},
   "source": [
    "[![Open In Colab](https://colab.research.google.com/assets/colab-badge.svg)](https://githubtocolab.com/CU-Denver-MathStats-OER/ODEs/blob/main/Chp1/02-Slope-Fields.ipynb)<nbsp>\n"
   ]
  },
  {
   "cell_type": "markdown",
   "id": "9b18cd77-54e3-4b1c-9a10-98b82a930e18",
   "metadata": {},
   "source": [
    "<font color=\"dodgerblue\">Reading: *Notes on Diffy Q's* Section 1.2</font>"
   ]
  },
  {
   "cell_type": "markdown",
   "id": "9ac19d0f-a912-4a2b-8508-f0a0f210fd9c",
   "metadata": {
    "id": "3581413b-8b68-474d-84db-6ecfb5eb00a5",
    "tags": []
   },
   "source": [
    "\n",
    "# Plotting a Differential Equation\n",
    "\n",
    "----\n",
    "\n",
    "A <font color=\"dodgerblue\">**slope field**</font> is a graphical representation of a rate of change equation. Given a rate of change equation, if we plug in particular values of $(t,y)$ then $\\dfrac{dy}{dt}$ tells you the slope of the tangent vector to the solution at that point.\n",
    "\n",
    "\n",
    "For example, consider the rate of change equation $\\dfrac{dy}{dt}=\\dfrac{t^2y}{4}$.  \n",
    "\n",
    "- At the point $(1, 4)$, the value of $\\dfrac{dy}{dt}$ is $\\dfrac{dy}{dt}=\\dfrac{(1)^2(4)}{4} =1$. \n",
    "- Thus, the slope field for this equation would show a vector at the point $(1, 4)$ with slope $1$.  \n",
    "\n",
    "A slope field depicts the exact slope of many such vectors, where we take each vector to be uniform length. Slope fields are useful because they provide a graphical approach for obtaining qualitatively correct graphs of the functions that satisfy a differential equation."
   ]
  },
  {
   "cell_type": "markdown",
   "id": "385c2d39-525d-4ffc-86f5-c2f2230eca44",
   "metadata": {
    "tags": []
   },
   "source": [
    "\n",
    "## Question 1: {#sec-02quest1}\n",
    "\n",
    "---\n",
    "\n",
    "Compute the slope of the solution to \n",
    "$$\\dfrac{dy}{dt}= \\dfrac{t^2y}{4}$$\n",
    "passing through each of the given points. \n",
    "\n",
    "- $(2,-2)$\n",
    "- $(0, -1)$ \n",
    "- $(2,-2)$ \n",
    "- $(-3,-2)$\n",
    "\n",
    "### Solution to Question 1:\n",
    "\n",
    "---\n",
    "\n",
    "<br>  \n",
    "<br>  \n",
    "<br>  \n"
   ]
  },
  {
   "cell_type": "markdown",
   "id": "31ae6ec8-bdc3-45b0-b710-8dd6ee7073f5",
   "metadata": {},
   "source": [
    "\n",
    "## Slope Field for Question 1\n",
    "\n",
    "---\n",
    "\n",
    "- The figure on the left shows the corresponding vectors at the points $(1,4)$, $(2,-2)$, $(0, -1)$, $(2,-2)$, and $(-3,-2)$.\n",
    "- The figure on the right gives a more complete slope field with several solutions added.\n",
    "- See the [Appendix](#sec-02append) for the code used to generate the figures below.\n",
    "\n",
    "::: {layout=\"[[48,48]]\"}\n",
    "\n",
    "![Vectors from Question 1](https://raw.githubusercontent.com/CU-Denver-MathStats-OER/ODEs/main/Chp1/Images/02fig-somevecs.png){fig-alt=\"Vectors from Question 1\"} \n",
    "\n",
    "![A More Complete Slope Fields with Solutions](https://raw.githubusercontent.com/CU-Denver-MathStats-OER/ODEs/main/Chp1/Images/02fig-vf-sols.png){fig-alt=\"A More Complete Slope Fields with Solutions\"}\n",
    "\n",
    ":::\n",
    "\n"
   ]
  },
  {
   "cell_type": "markdown",
   "id": "79a7439b-85cc-4d0f-934c-d87bb4f2f829",
   "metadata": {},
   "source": [
    "\n",
    "## Question 2: {#sec-02quest2}\n",
    "\n",
    "---\n",
    "\n",
    "Describe the \"long-run behavior\" of the solution to $\\dfrac{dy}{dt}= \\dfrac{t^2y}{4}$ that to passes through the given point.\n",
    "\n",
    "a.  $y=-1$ when $t=0$\n",
    "\n",
    "b.  $y(-4) = 1$\n",
    "\n",
    "c.  $(2, 0)$\n",
    "\n",
    "\n",
    "### Solution to Question 2:\n",
    "\n",
    "---\n",
    "\n",
    "<br>  \n",
    "<br>  \n",
    "<br>  \n"
   ]
  },
  {
   "cell_type": "markdown",
   "id": "a91e376b-c8da-435d-8469-7b4fab8301d0",
   "metadata": {
    "id": "35483307-dbe7-4b7f-bfce-a9eaea513243"
   },
   "source": [
    "\n",
    "## Question 3: {#sec-02quest3}\n",
    "\n",
    "---\n",
    "\n",
    "Below are seven differential equations and three different slope fields. **Without using technology**, identify which differential equation is the best match for each slope field (thus you will have four rate of change equations left over). **Explain your reasoning.** \n",
    "\n",
    "$$\n",
    "\\text{(i) } \\frac{dy}{dt}=t-1 \\quad \\text{(ii) } \\frac{dy}{dt}=1-y^2 \\quad \\text{(iii) } \\frac{dy}{dt}=y^2-t^2 \\quad \\text{(iv) } \\frac{dy}{dt}=1-y\n",
    "$$\n",
    "\n",
    "$$\n",
    "\\text{(v) } \\frac{dy}{dt}=t^2-y^2 \\quad \\text{(vi) } \\frac{dy}{dt}=1-t \\quad \\text{(vii) } \\frac{dy}{dt}=9t^2-y^2\n",
    "$$\n",
    "\n",
    "\n",
    "    \n",
    "|Slope Field 1 | Slope Field 2 | Slope Field 3|\n",
    "|--------------|---------------|--------------|\n",
    "<img src=\"https://raw.githubusercontent.com/CU-Denver-MathStats-OER/ODEs/main/Chp1/Images/02SlopeField1.png\" width = 300 alt='Slope Field 1'> | <img src=\"https://raw.githubusercontent.com/CU-Denver-MathStats-OER/ODEs/main/Chp1/Images/02SlopeField2.png\" width=300 alt='Slope Field 2'> | <img src=\"https://raw.githubusercontent.com/CU-Denver-MathStats-OER/ODEs/main/Chp1/Images/02SlopeField3.png\" width=300 alt='Slope Field 3'>\n",
    "\n",
    "\n",
    "### Solution to Question 3:\n",
    "    \n",
    "---\n",
    "\n",
    "<br> \n",
    "\n",
    "- Slope field 1 matches equation <mark>??</mark>\n",
    "\n",
    "- Slope field 2 matches equation <mark>??</mark>\n",
    "\n",
    "- Slope field 3 matches equation <mark>??</mark>\n",
    "\n",
    "\n",
    "<br>  \n",
    "<br>"
   ]
  },
  {
   "cell_type": "markdown",
   "id": "2423493a-089d-4265-92b8-c04e83ff2167",
   "metadata": {
    "id": "de3697ac-83f8-4d0c-9639-369c20a247bf",
    "tags": []
   },
   "source": [
    "\n",
    "## Question 4: {#sec-02quest4} \n",
    "\n",
    "----\n",
    "\n",
    "For each of the slope fields in [Question 3](#sec-02quest3), sketch in graphs of several different qualitatively correct solutions. **Do not use any technology to answer this question.** \n",
    "\n",
    "\n",
    "### Solution to Question 4:\n",
    "\n",
    "----\n",
    "\n",
    "<br>  \n",
    "<br>  \n",
    "<mark>Sketch your answers on the slope fields above.</mark>  \n",
    "<br>  \n",
    "<br>"
   ]
  },
  {
   "cell_type": "markdown",
   "id": "01aa4995-3d9c-4723-b936-600538a90d52",
   "metadata": {
    "id": "8df77abd-91cc-4b47-ae3c-3c502f3800e3"
   },
   "source": [
    "\n",
    "# Plotting Slope Fields in Python\n",
    "\n",
    "----\n",
    "\n",
    "To create a slope field we can follow the following routine:\n",
    "\n",
    "1. Pick a point $(t, y)$ and evaluate the differential equation $\\frac{dy}{dt}$ at that point.\n",
    "2. Draw a line segment (of uniform length) with slope $m=\\frac{dy}{dt}$ at the point $(t, y)$.\n",
    "3. Repeat many times.\n",
    "\n",
    "We will use a function named `slope_field()` whose code is found in the module `ode_tools.py` that is saved in GitHub.\n"
   ]
  },
  {
   "cell_type": "markdown",
   "id": "4bf54701-18ec-4f77-9cd1-0eb07f5a9bb7",
   "metadata": {
    "id": "tuvCY_YV5kMB",
    "tags": []
   },
   "source": [
    "\n",
    "## Loading `ode_tools` from GitHub {#sec-02LoadModule}\n",
    "\n",
    "---\n",
    "\n",
    "- Run the code cell below to load the `ode_tools` module stored in GitHub.\n",
    "- You will only need to run this code cell one time during an active session.\n",
    "- The code cell below will take a couple of seconds to run. You can ignore the output while the code is running."
   ]
  },
  {
   "cell_type": "code",
   "execution_count": null,
   "id": "6559f9ac-c449-48a9-ab7f-ade4f77b5557",
   "metadata": {},
   "outputs": [],
   "source": [
    "!pip install git+https://github.com/CU-Denver-MathStats-OER/ODEs\n",
    "from IPython.display import clear_output\n",
    "clear_output()"
   ]
  },
  {
   "cell_type": "markdown",
   "id": "5f943c57-b443-4a27-841a-045e903af33c",
   "metadata": {
    "id": "ycAmBv8K_Zss"
   },
   "source": [
    "\n",
    "## Importing the `slope_field()` Function\n",
    "\n",
    "---\n",
    "\n",
    "Next, import the `slope_field()` function from the `ode_tools` module. You will only need to run this command one time during an active session.\n",
    "\n"
   ]
  },
  {
   "cell_type": "code",
   "execution_count": null,
   "id": "9ed14efb-a72d-48ef-b797-fc92f3e1b24b",
   "metadata": {
    "id": "f38fbe97-697f-4eb5-aab1-b28acdf0d6a5",
    "tags": []
   },
   "outputs": [],
   "source": [
    "from utils.ode_tools import slope_field  # Only need to import one time."
   ]
  },
  {
   "cell_type": "markdown",
   "id": "899afa42-83ed-41a6-b887-698c77021758",
   "metadata": {
    "id": "72e16b8c-27bb-4350-87b6-75e5251388db",
    "tags": []
   },
   "source": [
    "\n",
    "## Importing Packages\n",
    "\n",
    "---\n",
    "\n",
    "We need to import two additional use packages in order to plot slope fields with the `slope_field()` function: \n",
    "\n",
    "- <font color=\"dodgerblue\">**NumPy**</font> is a package that is convenient for working with multidimensional arrays (such as vectors and matrices). See [NumPy help documentation](https://numpy.org/doc/stable/user/whatisnumpy.html).\n",
    "- <font color=\"dodgerblue\">**Matplotlib**</font> is a package useful for creating static, animated, and interactive visualizations. See [Matplotlib help documentation](https://numpy.org/doc/stable/user/whatisnumpy.html).\n",
    "    - The `pyplot` subpackage in `matplotlib` that is a great tool in computational math. See [pyplot help documentation](https://matplotlib.org/stable/api/_as_gen/matplotlib.pyplot.html). \n",
    "- You only need to import each package one time during an active session."
   ]
  },
  {
   "cell_type": "code",
   "execution_count": null,
   "id": "eeae0643-710a-4b93-acf9-963ef95e9ebe",
   "metadata": {},
   "outputs": [],
   "source": [
    "import numpy as np\n",
    "import matplotlib.pyplot as plt"
   ]
  },
  {
   "cell_type": "markdown",
   "id": "4d42e6b6-a417-4579-9129-c98a9fb5f6b2",
   "metadata": {
    "id": "72e16b8c-27bb-4350-87b6-75e5251388db",
    "tags": []
   },
   "source": [
    "\n",
    "## Plotting Slope Fields with `slope_field()`\n",
    "\n",
    "---\n",
    "\n",
    "After importing the the packages above, we are ready to create a plot for the slope field of $\\dfrac{dy}{dt}=\\dfrac{t^2y}{4}$.\n",
    "\n",
    "1. Define arrays `t` and `y` to set up the grid where each vector will be plotted. The function `np.linspace(initial, end, number)` creates an array of `number` evenly spaced values between `initial` and `end`. \n",
    "2. Define the differential equation `diffeq(t, y)`. \n",
    "3. Generate the slope field with the command `slope_field(t, y, diffeq)`.\n",
    "\n",
    "\n",
    "::: {.callout-tip}\n",
    "See [Quick Reference Guide on How to Use Python Functions for Chapter 1](https://githubtocolab.com/CU-Denver-MathStats-OER/ODEs/blob/main/Chp1/ODE-Tools-Tutorial.ipynb) for more detailed instructions. \n",
    ":::\n"
   ]
  },
  {
   "cell_type": "code",
   "execution_count": null,
   "id": "8dd52d69-05f4-4528-b584-76949ea83103",
   "metadata": {
    "id": "f38fbe97-697f-4eb5-aab1-b28acdf0d6a5"
   },
   "outputs": [],
   "source": [
    "# Set up the grid where each vector will be plotted\n",
    "t = np.linspace(-5, 5, 21)  # picks 21 evenly spaced values between t=-5 and t=5\n",
    "y = np.linspace(-5, 5, 21)  # picks 21 evenly spaced values between y=-5 and y=5\n",
    "\n",
    "# Setup the differential equation\n",
    "def diffeq(t, y):  # t is independent variable and y is dependent variable\n",
    "    return 0.25 * t**2 * y  # enter the formula for dy/dt\n",
    "\n",
    "# Run the slope field plotter\n",
    "slope_field(t, y, diffeq)"
   ]
  },
  {
   "cell_type": "markdown",
   "id": "425ae515-9c0f-4d40-8ca1-406d2155c314",
   "metadata": {
    "id": "50391ead-43d3-4f6e-98e5-7e59f72d281e"
   },
   "source": [
    "\n",
    "## Plotting a Different Slope Field\n",
    "\n",
    "---\n",
    "\n",
    "Next we use `slope_field()` to generate a plot of the slope corresponding to\n",
    "\n",
    "$$\\color{dodgerblue}{\\frac{dx}{dq} = 4q^2 - x^2}.$$\n",
    "\n",
    "We initially choose to plot the slope field over $-5 \\leq q \\leq 5$ and $-5 \\leq x \\leq 5$. Note when defining `diffeq` and using the `slope_field()` function we can change the letters for the independent and dependent variables to $q$ and $x$, respectively."
   ]
  },
  {
   "cell_type": "code",
   "execution_count": null,
   "id": "d19e8244-deda-4f74-a32b-02939a690cb8",
   "metadata": {
    "id": "55e56844-9f7c-4e74-baf0-ac5c705c2261"
   },
   "outputs": [],
   "source": [
    "# np.linspace(initial, end, number_values)\n",
    "q = np.linspace(-5, 5, 21)  # pick 21 values from q=-5 to q=5\n",
    "x = np.linspace(-5, 5, 21)  # pick 21 values from x=-5 to x=5\n",
    "\n",
    "# Define a new differential equation\n",
    "def diffeq(q, x):  # q and x are independent and dependent variables\n",
    "    return 4 * q**2 - x**2  # formula for dx/dq"
   ]
  },
  {
   "cell_type": "markdown",
   "id": "109eedd8-77fb-4928-9cf0-10adb74d296b",
   "metadata": {
    "id": "9b188864-4f47-40a9-a4a6-5a608f656ede"
   },
   "source": [
    "\n",
    "### Running `slope_field()`\n",
    "\n",
    "---\n",
    "\n",
    "Now that we have defined the differential equation and indicated where the vectors will be plotted, we can generate a new slope field using `slope_field()`. The code below also changes the color of the vectors from the default color (black) to green."
   ]
  },
  {
   "cell_type": "code",
   "execution_count": null,
   "id": "b39ce951-ee26-41b5-860b-42aad8031c1a",
   "metadata": {
    "id": "bb9b650a-336f-4ee9-af74-49d0399ccc34"
   },
   "outputs": [],
   "source": [
    "slope_field(q, x, diffeq, color='green')"
   ]
  },
  {
   "cell_type": "markdown",
   "id": "c86ab9b9-f1bb-47a6-b061-7e681000c7fd",
   "metadata": {
    "id": "398de3d6-508c-43cf-ba01-4057fe13cfbd"
   },
   "source": [
    "\n",
    "## Question 5: {#sec-02quest5} \n",
    "\n",
    "----\n",
    "\n",
    "Plot each of the four differential equations whose slope fields were not plotted in [Question 3](#sec-02quest3).\n",
    "\n",
    "\n",
    "### Solution to Question 5:\n",
    "\n",
    "----\n",
    "\n",
    "<br>  \n",
    "<br>  \n",
    "<mark>Replace each ?? in each of the four code cells below to plot each slope field.</mark>\n",
    "<br> \n",
    "<br>"
   ]
  },
  {
   "cell_type": "code",
   "execution_count": null,
   "id": "5bef3d6d-91be-4e48-a991-31738eea23af",
   "metadata": {
    "id": "391cdf81-e480-4b01-b0b0-d468d395ca2a"
   },
   "outputs": [],
   "source": [
    "# plot missing slope field 1\n",
    "\n",
    "# Define points where vectors will be plotted\n",
    "t = np.linspace(??, ??, ??)  # Independent variable, np.linspace(initial, end, number_values)\n",
    "y = np.linspace(??, ??, ??)  # Dependent variable, np.linspace(initial, end, number_values)\n",
    "\n",
    "# Define the differential equation\n",
    "def diffeq(t, y):  # t is independent variable and y is dependent variable\n",
    "    return ??  # enter the formula for dy/dt\n",
    "\n",
    "# Run the slope field plotter\n",
    "slope_field(t, y, diffeq)"
   ]
  },
  {
   "cell_type": "code",
   "execution_count": null,
   "id": "5301bd5c-5225-4a83-92b3-22a53aaa6150",
   "metadata": {
    "id": "391cdf81-e480-4b01-b0b0-d468d395ca2a"
   },
   "outputs": [],
   "source": [
    "# plot missing slope field 2\n",
    "\n",
    "# Define points where vectors will be plotted\n",
    "t = np.linspace(??, ??, ??)  # Independent variable, np.linspace(initial, end, number_values)\n",
    "y = np.linspace(??, ??, ??)  # Dependent variable, np.linspace(initial, end, number_values)\n",
    "\n",
    "# Define the differential equation\n",
    "def diffeq(t, y):  # t is independent variable and y is dependent variable\n",
    "    return ??  # enter the formula for dy/dt\n",
    "\n",
    "# Run the slope field plotter\n",
    "slope_field(t, y, diffeq)"
   ]
  },
  {
   "cell_type": "code",
   "execution_count": null,
   "id": "62c638fe-bf02-47d3-bac7-24d074c00cb1",
   "metadata": {
    "id": "391cdf81-e480-4b01-b0b0-d468d395ca2a"
   },
   "outputs": [],
   "source": [
    "# plot missing slope field 3\n",
    "\n",
    "# Define points where vectors will be plotted\n",
    "t = np.linspace(??, ??, ??)  # Independent variable, np.linspace(initial, end, number_values)\n",
    "y = np.linspace(??, ??, ??)  # Dependent variable, np.linspace(initial, end, number_values)\n",
    "\n",
    "# Define the differential equation\n",
    "def diffeq(t, y):  # t is independent variable and y is dependent variable\n",
    "    return ??  # enter the formula for dy/dt\n",
    "\n",
    "# Run the slope field plotter\n",
    "slope_field(t, y, diffeq)"
   ]
  },
  {
   "cell_type": "code",
   "execution_count": null,
   "id": "a4f0122f-1d03-4884-ad1d-31b203fe17fa",
   "metadata": {
    "id": "391cdf81-e480-4b01-b0b0-d468d395ca2a"
   },
   "outputs": [],
   "source": [
    "# plot missing slope field 4\n",
    "\n",
    "# Define points where vectors will be plotted\n",
    "t = np.linspace(??, ??, ??)  # Independent variable, np.linspace(initial, end, number_values)\n",
    "y = np.linspace(??, ??, ??)  # Dependent variable, np.linspace(initial, end, number_values)\n",
    "\n",
    "# Define the differential equation\n",
    "def diffeq(t, y):  # t is independent variable and y is dependent variable\n",
    "    return ??  # enter the formula for dy/dt\n",
    "\n",
    "# Run the slope field plotter\n",
    "slope_field(t, y, diffeq)"
   ]
  },
  {
   "cell_type": "markdown",
   "id": "75a63215-f436-419c-92e8-f42a29cc8531",
   "metadata": {
    "id": "8f330c02-d88b-478b-8cea-8bd4f7937f92"
   },
   "source": [
    "\n",
    "# Adding a Solution to a Slope Field\n",
    "\n",
    "---\n",
    "\n"
   ]
  },
  {
   "cell_type": "markdown",
   "id": "a5fd10f8-2ce5-4c79-a4ec-b6ed3c06a9af",
   "metadata": {
    "id": "8f330c02-d88b-478b-8cea-8bd4f7937f92"
   },
   "source": [
    "\n",
    "## Importing `plot_sol()`\n",
    "\n",
    "---\n",
    "\n",
    "We have seen that slope fields are useful for sketching graphs to approximate solutions that pass through certain points. The arrows should be approximately tangent to the curve we sketch. In addition to the `slope_field()` function we used earlier, the `ode_tools` module defines other functions we will use this semester. **We next import the function `plot_sol()` to plot a slope field as well as the solution that passes through a given point.**"
   ]
  },
  {
   "cell_type": "code",
   "execution_count": null,
   "id": "f05e1a94-5733-402a-a067-1c082500f887",
   "metadata": {},
   "outputs": [],
   "source": [
    "from utils.ode_tools import plot_sol  # Only need to import the function once"
   ]
  },
  {
   "cell_type": "markdown",
   "id": "85332240-546f-407d-8794-ff4f17a8bb1c",
   "metadata": {
    "id": "8f330c02-d88b-478b-8cea-8bd4f7937f92"
   },
   "source": [
    "\n",
    "## Using the `plot_sol()` Function\n",
    "\n",
    "---\n",
    "\n",
    "After importing the the `plot_sol()` function from `ode_tools` and the NumPy and Matplotlib packages, we are ready to create a plot for the slope field of $\\dfrac{dy}{dt}=\\dfrac{t^2y}{4}$ with the graph of the solution through the point $(-2,2)$.\n",
    "\n",
    "1. Use `np.linspace()` to define arrays `t` and `y` to set up the grid where each vector will be plotted. \n",
    "2. Define the differential equation `diffeq(t, y)`. \n",
    "3. <font color = \"dodgerblue\">Define an initial condition $(t_0, y_0)$.\n",
    "    - The initial value of $t$ stored in the variable named `t0`.\n",
    "    - The initial value of $y$ is stored in the variable named `y0`.</font> \n",
    "4. Generate the slope field with the command `plot_sol(t, y, diffeq, t0, y0)`.\n",
    "\n",
    "::: {.callout-tip}\n",
    "See [Quick Reference Guide on How to Use Python Functions for Chapter 1](https://githubtocolab.com/CU-Denver-MathStats-OER/ODEs/blob/main/Chp1/ODE-Tools-Tutorial.ipynb) for more detailed instructions. \n",
    ":::\n"
   ]
  },
  {
   "cell_type": "code",
   "execution_count": null,
   "id": "e708ae67-d92f-4a29-9265-bfcde4c2cbf5",
   "metadata": {
    "id": "1f99a601-c190-4e4b-9e65-b7a13cf14b66"
   },
   "outputs": [],
   "source": [
    "#from utils.ode_tools import plot_sol  # Only need to import the function once\n",
    "\n",
    "# Define points where vectors will be plotted\n",
    "t = np.linspace(-5, 5, 21)  \n",
    "x = np.linspace(-5, 5, 21)\n",
    "\n",
    "# Define the differential equation\n",
    "def diffeq(t, y):  # t is independent variable and y is dependent variable\n",
    "    return 0.25 * t**2 * y  # enter the formula for dy/dt\n",
    "\n",
    "# Enter t0, the initial value of t\n",
    "# Enter y0, the value of y at t0\n",
    "t0 = -2\n",
    "y0 = 2\n",
    "\n",
    "# Run the function to create a plot\n",
    "plot_sol(t, y, diffeq, t0, y0)"
   ]
  },
  {
   "cell_type": "markdown",
   "id": "c5d3c97b-d469-452d-9c0d-4d901d911d23",
   "metadata": {
    "id": "7db3914c-bed7-45d9-8b8d-c583c34c4462"
   },
   "source": [
    "\n",
    "## Question 6: {#sec-02quest6} \n",
    "\n",
    "----\n",
    "\n",
    "Use the `plot_sol()` function to create a plot of the slope field and solution passing through the given point.\n",
    "\n",
    "$$\\color{dodgerblue}{\\frac{dx}{dq} = 4q^2 - x^2, \\qquad x(-2)=3}.$$\n",
    "\n",
    "\n",
    "### Solution to Question 6:\n",
    "\n",
    "----\n",
    "\n",
    "<br>  \n",
    "<br>  \n",
    "<mark>Complete the code block below.</mark>\n",
    "<br>  \n",
    "<br>"
   ]
  },
  {
   "cell_type": "code",
   "execution_count": null,
   "id": "c8956933-4c69-4895-80ba-07b0640f818e",
   "metadata": {
    "id": "bc880516-baca-40e4-9893-9287a9ce316f"
   },
   "outputs": [],
   "source": [
    "#from utils.ode_tools import plot_sol  # Only need to import the function once\n",
    "\n",
    "# Define points where vectors will be plotted\n",
    "q = np.linspace(??, ??, ??)  \n",
    "x = np.linspace(??, ??, ??)  \n",
    "\n",
    "# Define the differential equation\n",
    "def diffeq(q, x):  # q is independent variable and x is dependent variable\n",
    "    return ??  # enter the formula for dx/dq\n",
    "\n",
    "# Enter q0, the initial value of q\n",
    "# Enter x0, the value of x at q0\n",
    "q0 = ??\n",
    "x0 = ??\n",
    "\n",
    "# Run the function to create a plot\n",
    "plot_sol(q, x, diffeq, q0, x0)"
   ]
  },
  {
   "cell_type": "markdown",
   "id": "e818f00f-6e9c-4612-ae68-79d9c98ac5b0",
   "metadata": {},
   "source": [
    "\n",
    "# Appendix: Code for Plots After Question 1 {#sec-02append}\n",
    "\n",
    "---\n",
    "\n",
    "The code cells below generate the figure illustrating the solution to [Question 1](#sec-02quest1)."
   ]
  },
  {
   "cell_type": "code",
   "execution_count": null,
   "id": "5c9321c9-5ada-47e2-ae91-dd4619cf6667",
   "metadata": {},
   "outputs": [],
   "source": [
    "# import required packages\n",
    "import matplotlib.pyplot as plt\n",
    "import numpy as np\n",
    "from scipy.integrate import odeint, solve_ivp  # numerical ode solver"
   ]
  },
  {
   "cell_type": "code",
   "execution_count": null,
   "id": "0b6f43b4-656e-46de-be82-def723beea86",
   "metadata": {},
   "outputs": [],
   "source": [
    "# Plot 5 vectors in slope field\n",
    "plt.quiver(1, 4, 1, 1, color = 'green')  # Plot vector at (1,4) with slope dy/dt = 1/1 = 1 \n",
    "plt.quiver(2, -2, 1, -2, color = 'blue')  # Plot vector at (2,-2) with slope dy/dt = -2/1 = -2  \n",
    "plt.quiver(-3, -2, 1, -4.5, color = 'blue')  # Plot vector at (-3,-2) with slope dy/dt = -4.5/1 = -4.5 \n",
    "plt.quiver(-2, 1.9, 1, 2, color = 'blue')  # Plot vector at (-2,2) with slope dy/dt = 2/1 = 2 \n",
    "plt.quiver(0, -1, 1, 0, color = 'blue')  # Plot vector at (0,-1) with slope dy/dt = 0/1 = 0 \n",
    "\n",
    "# Set limits on horizontal and vertical axes\n",
    "plt.xlim([-5, 5])\n",
    "plt.ylim([-5, 5])\n",
    "\n",
    "# Label axes\n",
    "plt.xlabel(r\"$t$\", fontsize=14)\n",
    "plt.ylabel(r\"$y$\", fontsize=14)\n",
    "\n",
    "# Add a grid and axes to plot\n",
    "plt.xticks(np.linspace(-5,5,11))\n",
    "plt.yticks(np.linspace(-5,5,11))\n",
    "plt.grid(True, which='both')\n",
    "plt.axvline(x=0, color='black')\n",
    "plt.axhline(y=0, color='black')\n",
    "\n",
    "plt.show()"
   ]
  },
  {
   "cell_type": "code",
   "execution_count": null,
   "id": "90fa3870-8656-4809-bf8f-f8928f70a5d9",
   "metadata": {},
   "outputs": [],
   "source": [
    "# Solutions to diff eq\n",
    "t = np.linspace(-5, 5, 50)  # time interval for solution plots\n",
    "y0 = np.array([0.00011, -0.000030732613, -0.000568])  # initial conditions when t=-5\n",
    "\n",
    "# Define diff eq\n",
    "def model(y, t):  # t is independent variable and y is dependent variable\n",
    "    dydt = 0.25 * t**2 * y  # enter the formula for dy/dt\n",
    "    return dydt\n",
    "\n",
    "# solve the IVP 1\n",
    "sol1 = odeint(model, y0[0], t)\n",
    "# solve the IVP 2\n",
    "sol2 = odeint(model, y0[1], t)\n",
    "# solve the IVP 3\n",
    "sol3 = odeint(model, y0[2], t)"
   ]
  },
  {
   "cell_type": "code",
   "execution_count": null,
   "id": "d81d76aa-9365-4b1c-a5db-0d03bc6ee2ff",
   "metadata": {
    "tags": []
   },
   "outputs": [],
   "source": [
    "# Plot the 3 solutions\n",
    "plt.plot(t, sol1, color='green', linestyle='dashed', linewidth=1.0)\n",
    "plt.plot(t, sol2, color='red', linestyle='dashed', linewidth=1.0)\n",
    "plt.plot(t, sol3, color='purple', linestyle='dashed', linewidth=1.0)\n",
    "\n",
    "# Plot vectors 5 vectors\n",
    "plt.quiver(1, 4, 1, 1, color = 'green')  # plots vector at (1,4) with slope 1/1 = 1 \n",
    "plt.quiver(2, -2, 1, -2, color = 'blue')  # plots vector at (2,-2) with slope -2/1 = -2\n",
    "plt.quiver(-3, -2, 1, -4.5, color = 'blue')  # plots vector at (-3,-2) with slope -4.5/1 = -4.5\n",
    "plt.quiver(-2, 1.9, 1, 2, color = 'blue')  # plots vector at (-2,1.9) with slope 2/1 = 2\n",
    "plt.quiver(0, -1, 1, 0, color = 'blue')  # plots vector at (0,-1) with slope 0/1 = 0\n",
    "\n",
    "# Set limits on x and y axes\n",
    "plt.xlim([-5, 5])\n",
    "plt.ylim([-5, 5])\n",
    "\n",
    "# Label axes\n",
    "plt.xlabel(r\"$t$\", fontsize=14)\n",
    "plt.ylabel(r\"$y$\", fontsize=14)\n",
    "\n",
    "# Add a grid and axes to plot\n",
    "plt.xticks(np.linspace(-5,5,11))\n",
    "plt.yticks(np.linspace(-5,5,11))\n",
    "plt.grid(True, which='both')\n",
    "plt.axvline(x=0, color='black')\n",
    "plt.axhline(y=0, color='black')\n",
    "\n",
    "plt.show()"
   ]
  },
  {
   "cell_type": "code",
   "execution_count": null,
   "id": "5d669081-70fd-4371-8beb-e05505821d61",
   "metadata": {},
   "outputs": [],
   "source": [
    "fig = plt.figure()\n",
    "\n",
    "# Plot a more complete slope field\n",
    "X, Y = np.meshgrid(np.linspace(-5, 5, 21), np.linspace(-5, 5, 21))\n",
    "U = 1.0\n",
    "V = 0.25 * Y * X ** 2\n",
    "# Normalize arrows\n",
    "N = np.sqrt(U ** 2 + V ** 2)\n",
    "U = U / N\n",
    "V = V / N\n",
    "plt.quiver(X, Y, U, V, angles=\"xy\")\n",
    "\n",
    "# Plot 3 solutions\n",
    "plt.plot(t, sol1, color='green', linewidth=1.5)\n",
    "plt.plot(t, sol2, color='red', linewidth=1.5)\n",
    "plt.plot(t, sol3, color='purple', linewidth=1.5)\n",
    "\n",
    "\n",
    "# Plot 5 vectors\n",
    "plt.quiver(1, 4, 1, 1, color = 'blue')  # plots vector at (1,4) with slope 1/1 = 1 \n",
    "plt.quiver(2, -2, 1, -2, color = 'blue')  # plots vector at (2,-2) with slope -2/1 = -2\n",
    "plt.quiver(-3, -2, 1, -4.5, color = 'blue')  # plots vector at (-3,-2) with slope -4.5/1 = -4.5\n",
    "plt.quiver(-2, 1.9, 1, 2, color = 'blue')  # plots vector at (-2,1.9) with slope 2/1 = 2\n",
    "plt.quiver(0, -1, 1, 0, color = 'blue')  # plots vector at (0,-1) with slope 0/1 = 0\n",
    "\n",
    "# Add a grid and axes to plot\n",
    "plt.xticks(np.linspace(-5,5,11))\n",
    "plt.yticks(np.linspace(-5,5,11))\n",
    "plt.grid(True, which='both')\n",
    "plt.axvline(x=0, color='black')\n",
    "plt.axhline(y=0, color='black')\n",
    "\n",
    "plt.xlim([-5, 5])\n",
    "plt.ylim([-5, 5])\n",
    "plt.xlabel(r\"$t$\")\n",
    "plt.ylabel(r\"$y$\")"
   ]
  },
  {
   "cell_type": "markdown",
   "id": "6a5b3804-3ede-4196-9678-c0a2031ceba6",
   "metadata": {
    "id": "6a5b3804-3ede-4196-9678-c0a2031ceba6"
   },
   "source": [
    "\n",
    "# Creative Commons License Information\n",
    "\n",
    "---\n",
    "\n",
    "<a rel=\"license\" href=\"https://creativecommons.org/licenses/by-nc-sa/4.0/\"><img alt=\"Creative Commons License\" style=\"border-width:0\" src=\"https://i.creativecommons.org/l/by-nc-sa/4.0/80x15.png\" /></a><br /><span xmlns:dct=\"http://purl.org/dc/terms/\" property=\"dct:title\">*Exploring Differential Equations*</span> by <a xmlns:cc=\"http://creativecommons.org/ns#\" href=\"https://github.com/CU-Denver-MathStats-OER/ODEs\" property=\"cc:attributionName\" rel=\"cc:attributionURL\">Adam Spiegler</a> is licensed under a <a rel=\"license\" href=\"http://creativecommons.org/licenses/by-nc-sa/4.0/\">Creative Commons Attribution-NonCommercial-ShareAlike 4.0 International License</a>.<br />Based on a work at <a xmlns:dct=\"http://purl.org/dc/terms/\" href=\"https://github.com/CU-Denver-MathStats-OER/ODEs\" rel=\"dct:source\">https://github.com/CU-Denver-MathStats-OER/ODEs</a> and original content created by Rasmussen, C., Keene, K. A., Dunmyre, J., & Fortune, N. (2018). *Inquiry oriented differential equations: Course materials*. Available at <a href=\"https://iode.sdsu.edu\">https://iode.sdsu.edu</a>."
   ]
  }
 ],
 "metadata": {
  "colab": {
   "collapsed_sections": [],
   "name": "02-Slope-Fields.ipynb",
   "provenance": []
  },
  "kernelspec": {
   "display_name": "Python 3 (ipykernel)",
   "language": "python",
   "name": "python3"
  },
  "language_info": {
   "codemirror_mode": {
    "name": "ipython",
    "version": 3
   },
   "file_extension": ".py",
   "mimetype": "text/x-python",
   "name": "python",
   "nbconvert_exporter": "python",
   "pygments_lexer": "ipython3",
   "version": "3.9.13"
  }
 },
 "nbformat": 4,
 "nbformat_minor": 5
}
