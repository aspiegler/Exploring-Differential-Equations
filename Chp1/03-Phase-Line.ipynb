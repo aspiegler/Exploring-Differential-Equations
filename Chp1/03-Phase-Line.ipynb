{
 "cells": [
  {
   "cell_type": "raw",
   "id": "156a4763-04c4-4581-b85c-5d48ecaaa2f5",
   "metadata": {},
   "source": [
    "---\n",
    "title: '1.3: The Phase Plane'\n",
    "#author: 'Adam Spiegler, University of Colorado Denver'\n",
    "#execute:\n",
    "#  eval: false\n",
    "output:\n",
    "  html_document:\n",
    "#    toc: yes\n",
    "#    toc_depth: 1\n",
    "#    theme: cerulean\n",
    "---    \n"
   ]
  },
  {
   "cell_type": "markdown",
   "id": "d8538825-184f-4fb8-878d-0c239eea11fa",
   "metadata": {},
   "source": [
    "[![Open In Colab](https://colab.research.google.com/assets/colab-badge.svg)](https://githubtocolab.com/CU-Denver-MathStats-OER/ODEs/blob/main/Chp1/03-Phase-Line.ipynb)<nbsp>\n"
   ]
  },
  {
   "cell_type": "markdown",
   "id": "2cd03f19-b42d-4367-ad5f-ef872c8a8547",
   "metadata": {},
   "source": [
    "<font color=\"dodgerblue\">Reading: *Notes on Diffy Q's* Section 1.6</font>"
   ]
  },
  {
   "cell_type": "markdown",
   "id": "8b19ef94-2e1a-4cc9-80c5-b5e197ab380a",
   "metadata": {
    "id": "8b19ef94-2e1a-4cc9-80c5-b5e197ab380a"
   },
   "source": [
    "\n",
    "# Analyzing Autonomous DEs: Spotted Owls\n",
    "\n",
    "----\n",
    "\n",
    "A group of biologists are making predictions about the spotted owl population in a forest in the Pacific Northwest.  The autonomous differential equation the scientist use to model the spotted owl population is \n",
    "\n",
    "$$\\frac{dP}{dt}=\\frac{P}{2}\\left(1-\\frac{P}{5}\\right)\\left(\\frac{P}{8}-1\\right),$$ \n",
    "\n",
    "where $P$ is in hundreds of owls and $t$ is in years. The issue is that the current number of owls is only approximately known.  "
   ]
  },
  {
   "cell_type": "markdown",
   "id": "5ed90882-34d9-431d-b6b0-967b4277629b",
   "metadata": {
    "id": "5ed90882-34d9-431d-b6b0-967b4277629b"
   },
   "source": [
    "\n",
    "## Question 1: {#sec-03quest1}\n",
    "\n",
    "----\n",
    "\n",
    "Suppose the scientists estimate that currently $P$ is about 5 (i.e. there are currently about 500 owls in the forest).  Since 5 is only an estimate, they make long-term predictions of the owl population for the initial conditions $P = 4.9$, $P = 5.0$, and $P = 5.1$. \n",
    "\n",
    "**Without using Python or any other technology**, determine the long-term predictions for these initial conditions based on the differential equation. Will slightly different initial conditions yield only slightly different long-term predictions, or will they be radically different? Carry out a similar analysis if the current number of owls is somewhere near 800 owls.\n",
    "\n",
    "### Solution to Question 1:\n",
    "\n",
    "----\n",
    "\n",
    "<br>  \n",
    "<br>  \n",
    "<br> "
   ]
  },
  {
   "cell_type": "markdown",
   "id": "1b6ca298-3105-4764-bbec-83491b5c7fe6",
   "metadata": {
    "id": "1b6ca298-3105-4764-bbec-83491b5c7fe6"
   },
   "source": [
    "\n",
    "## Question 2: {#sec-03quest2}\n",
    "\n",
    "----\n",
    "\n",
    "Give a one dimensional representation, *without words*, that would describe all solutions to the differential equation.\n",
    "\n",
    "\n",
    "### Solution to Question 2:\n",
    "\n",
    "----\n",
    "\n",
    "<br>  \n",
    "<br>  \n",
    "<br>   "
   ]
  },
  {
   "cell_type": "markdown",
   "id": "993507b9-e6bc-479d-8607-baef219cd59a",
   "metadata": {
    "id": "993507b9-e6bc-479d-8607-baef219cd59a"
   },
   "source": [
    "\n",
    "# Phase Lines\n",
    "\n",
    "----\n",
    "\n",
    "A <font color=\"dodgerblue\">**phase line**</font> is the standard one-dimensional diagram that depicts the qualitative behavior of solutions to an autonomous differential equation."
   ]
  },
  {
   "cell_type": "markdown",
   "id": "be8e3028-ea57-4b96-a60f-aa782a70a2eb",
   "metadata": {
    "id": "be8e3028-ea57-4b96-a60f-aa782a70a2eb"
   },
   "source": [
    "\n",
    "## Question 3: {#sec-03quest3}\n",
    "\n",
    "----\n",
    "\n",
    "Label the dots and add arrows to the figure below to represent **all** solutions to the differential equation in [Question 1](#sec-03quest1).\n",
    "\n",
    "<img src=\"https://raw.githubusercontent.com/CU-Denver-MathStats-OER/ODEs/main/Chp1/Images/03PhaseLine.png\"  alt = \"Blank Phase Line\" width=\"70\">\n",
    "\n",
    "### Solution to Question 3:\n",
    "\n",
    "----\n",
    "\n",
    "<br>  \n",
    "<br> \n",
    "<br>   "
   ]
  },
  {
   "cell_type": "markdown",
   "id": "dbb530f7-3499-44b4-af39-a0bfce439560",
   "metadata": {
    "id": "dbb530f7-3499-44b4-af39-a0bfce439560"
   },
   "source": [
    "\n",
    "## Question 4: {#sec-03quest4}\n",
    "\n",
    "----\n",
    "\n",
    "For the differential equation in questions [1](#sec-03quest1) thru [3](#sec-03quest3) there are three equilibrium solutions. Recall that equilibrium solutions are constant functions that satisfy the differential equation. How do the other solution functions near each equilibrium solution behave in the long term? If you were to label each of these equilibrium solutions based on the way in which nearby solutions behave, what terms would you use and why?\n",
    "\n",
    "### Solution to Question 4:\n",
    "\n",
    "----\n",
    "\n",
    "<br>  \n",
    "<br> \n",
    "<br>   "
   ]
  },
  {
   "cell_type": "markdown",
   "id": "89a9d2a5-4538-4f75-8433-ad0fab4c188a",
   "metadata": {
    "id": "89a9d2a5-4538-4f75-8433-ad0fab4c188a"
   },
   "source": [
    "\n",
    "## Question 5: {#sec-03quest5}\n",
    "\n",
    "----\n",
    "\n",
    "Create an autonomous differential equation that has exactly two equilibrium solutions: $y(t)=3$ is a stable equilibrium and $y(t) = -4$ is an unstable equilibrium.\n",
    "\n",
    "### Solution to Question 5:\n",
    "\n",
    "----\n",
    "\n",
    "<br>  \n",
    "<br>  \n",
    "<br>  "
   ]
  },
  {
   "cell_type": "markdown",
   "id": "3b28511d-e5ab-4184-b24a-cc5efa91d59a",
   "metadata": {
    "id": "3b28511d-e5ab-4184-b24a-cc5efa91d59a"
   },
   "source": [
    "\n",
    "# Creative Commons License Information\n",
    "\n",
    "---\n",
    "\n",
    "<a rel=\"license\" href=\"https://creativecommons.org/licenses/by-nc-sa/4.0/\"><img alt=\"Creative Commons License\" style=\"border-width:0\" src=\"https://i.creativecommons.org/l/by-nc-sa/4.0/80x15.png\" /></a><br /><span xmlns:dct=\"http://purl.org/dc/terms/\" property=\"dct:title\">*Exploring Differential Equations*</span> by <a xmlns:cc=\"http://creativecommons.org/ns#\" href=\"https://github.com/CU-Denver-MathStats-OER/ODEs\" property=\"cc:attributionName\" rel=\"cc:attributionURL\">Adam Spiegler</a> is licensed under a <a rel=\"license\" href=\"http://creativecommons.org/licenses/by-nc-sa/4.0/\">Creative Commons Attribution-NonCommercial-ShareAlike 4.0 International License</a>.<br />Based on a work at <a xmlns:dct=\"http://purl.org/dc/terms/\" href=\"https://github.com/CU-Denver-MathStats-OER/ODEs\" rel=\"dct:source\">https://github.com/CU-Denver-MathStats-OER/ODEs</a> and original content created by Rasmussen, C., Keene, K. A., Dunmyre, J., & Fortune, N. (2018). *Inquiry oriented differential equations: Course materials*. Available at <a href=\"https://iode.sdsu.edu\">https://iode.sdsu.edu</a>."
   ]
  },
  {
   "cell_type": "code",
   "execution_count": null,
   "id": "M2aM_hmvHAgy",
   "metadata": {
    "id": "M2aM_hmvHAgy"
   },
   "outputs": [],
   "source": []
  }
 ],
 "metadata": {
  "colab": {
   "collapsed_sections": [],
   "name": "03-Phase-Line.ipynb",
   "provenance": [],
   "toc_visible": true
  },
  "kernelspec": {
   "display_name": "Python 3 (ipykernel)",
   "language": "python",
   "name": "python3"
  },
  "language_info": {
   "codemirror_mode": {
    "name": "ipython",
    "version": 3
   },
   "file_extension": ".py",
   "mimetype": "text/x-python",
   "name": "python",
   "nbconvert_exporter": "python",
   "pygments_lexer": "ipython3",
   "version": "3.9.13"
  }
 },
 "nbformat": 4,
 "nbformat_minor": 5
}
